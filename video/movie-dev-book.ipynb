{
 "cells": [
  {
   "cell_type": "code",
   "execution_count": 96,
   "metadata": {
    "collapsed": true
   },
   "outputs": [],
   "source": [
    "# This notebook is created to document and help me with the development process - isn't required to run the pipeline"
   ]
  },
  {
   "cell_type": "markdown",
   "metadata": {},
   "source": [
    "# GIF: Nicolas Cage Montage\n",
    "---\n",
    "Combine a sequence of images of Nicolas Cage's face, sorted by smartgrid"
   ]
  },
  {
   "cell_type": "code",
   "execution_count": 9,
   "metadata": {
    "collapsed": true
   },
   "outputs": [],
   "source": [
    "# Goal ====================\n",
    "# Directories:\n",
    "    # temp - temp files\n",
    "    # inputs - source images - \n",
    "    # outputs - processed images in sequence\n",
    "    # movies - final movie gif\n",
    "#  Scripts:\n",
    "    # build-directories.sh - script to create folders\n",
    "    # run-cage.sh - used to run the pipeline as outlined below\n",
    "        # get-cage.sh - scrapes images of nicolas cage and puts them into inputs\n",
    "        # create-cage-bounds.py - script to detect coordinates of nick cage faces in photos - exports to a csv\n",
    "        # crop-cage.sh - goes through input images and crops cage faces as per exported csv\n",
    "        # sort-cage.sh - use smartgrid to sort images and put them into outputs\n",
    "        # composite-cage - use smartgrid to sort images and put them into outputs    "
   ]
  },
  {
   "cell_type": "code",
   "execution_count": 28,
   "metadata": {
    "collapsed": false
   },
   "outputs": [
    {
     "name": "stdout",
     "output_type": "stream",
     "text": [
      "mkdir: temp: File exists\r\n",
      "mkdir: inputs: File exists\r\n",
      "mkdir: outputs: File exists\r\n",
      "mkdir: movies: File exists\r\n"
     ]
    }
   ],
   "source": [
    "# Build Directories ===================\n",
    "build_dirs = 'mkdir temp inputs outputs movies'\n",
    "! {build_dirs}"
   ]
  },
  {
   "cell_type": "code",
   "execution_count": 5,
   "metadata": {
    "collapsed": false
   },
   "outputs": [],
   "source": [
    "# Misc. helpers\n",
    "def write_script(title, content) :\n",
    "    f = open('{}.sh'.format(title), 'w')\n",
    "    f.write(content)\n",
    "    f.close()"
   ]
  },
  {
   "cell_type": "markdown",
   "metadata": {},
   "source": [
    "## Download Nick Cage Photos"
   ]
  },
  {
   "cell_type": "code",
   "execution_count": 92,
   "metadata": {
    "collapsed": false
   },
   "outputs": [],
   "source": [
    "# Get Nick Cage photos ================\n",
    "# source: http://niccageaseveryone.blogspot.co.nz\n",
    "get_cage = '\\\n",
    "set -ex\\\n",
    "\\nfor YEAR in 2009 2010 2011 2013\\\n",
    "\\ndo\\\n",
    "\\n\\tfor PAGE in $(seq -f \"%02g\" 1 12)\\\n",
    "\\n\\tdo\\\n",
    "\\n\\t# build the url \\\n",
    "\\n\\tURL=\"http://niccageaseveryone.blogspot.co.nz/\"$YEAR\"/\"$PAGE\\\n",
    "\\n\\t\\t# fetch the images \\\\\\\n",
    "\\n\\t\\twget \\\\\\\n",
    "\\n\\t\\t\\t--adjust-extension \\\\\\\n",
    "\\n\\t\\t\\t--no-directories \\\\\\\n",
    "\\n\\t\\t\\t--convert-links \\\\\\\n",
    "\\n\\t\\t\\t--backup-converted \\\\\\\n",
    "\\n\\t\\t\\t--random-wait\\\\\\\n",
    "\\n\\t\\t\\t--limit-rate=100k \\\\\\\n",
    "\\n\\t\\t\\t--span-hosts \\\\\\\n",
    "\\n\\t\\t\\t--directory-prefix=temp/downloads \\\\\\\n",
    "\\n\\t\\t\\t--page-requisites \\\\\\\n",
    "\\n\\t\\t\\t--timestamping \\\\\\\n",
    "\\n\\t\\t\\t--execute robots=off \\\\\\\n",
    "\\n\\t\\t\\t--accept=*.jpg \\\\\\\n",
    "\\n\\t\\t\\t$URL\\\n",
    "\\n\\tdone\\\n",
    "\\ndone'\n",
    "\n",
    "write_script(\"get-cage\", get_cage)"
   ]
  },
  {
   "cell_type": "markdown",
   "metadata": {},
   "source": [
    "## Process Nick Cage Photos"
   ]
  },
  {
   "cell_type": "code",
   "execution_count": 95,
   "metadata": {
    "collapsed": false
   },
   "outputs": [
    {
     "data": {
      "text/plain": [
       "\"\\nimport face_recognition\\nimport os\\n\\n# create encoding of known cage image to compare faces with\\ncage_image = face_recognition.load_image_file('./temp/face_recognition/to_recognise/Nicolas Cage.jpg')\\ncage_encoding = face_recognition.face_encodings(cage_image)[0]\\n\\n# loop through downloaded images - create csv of cage face locations for cropping shell script to refer to\\ncage_csv = open('./temp/face_recognition/cage_bounds.csv', 'w')\\ncolumn_titles = 'file_name, face_index, top, right, bottom, left'\\ncage_csv.write(column_titles + '\\n')\\n\\nfor file in os.listdir('./temp/downloads'): \\n    if file.endswith('.jpg'):\\n        image_path = os.path.join('./temp/downloads', file)\\n        image = face_recognition.load_image_file(image_path)\\n        face_locations = face_recognition.api.face_locations(image)\\n        if (len(face_locations) > 0): # if faces are detected\\n            # encode each face\\n            image_face_encodings = face_recognition.face_encodings(image, known_face_locations=face_locations)\\n            cage_locations = [] # list of bounding box coordinates for cage faces\\n            for index, encoding in enumerate(image_face_encodings):\\n                results = face_recognition.compare_faces([cage_encoding], encoding, tolerance=0.8)\\n                if (results[0] == True):\\n                    bounds = face_locations[index]\\n                    cage_csv.write('{}, {}, {}, {}, {}, {}\\n'.format(file, index, bounds[0], bounds[1], bounds[2], bounds[3]))\\n\""
      ]
     },
     "execution_count": 95,
     "metadata": {},
     "output_type": "execute_result"
    }
   ],
   "source": [
    "# Process Nick Cage photos ================\n",
    "# Detect Nick Cage faces - filter out non cage faces + crop\n",
    "\n",
    "# Use python face recognition library to create a csv of cage bounding boxes =========\n",
    "\"\"\"\n",
    "import face_recognition\n",
    "import os\n",
    "\n",
    "# create encoding of known cage image to compare faces with\n",
    "cage_image = face_recognition.load_image_file('./temp/face_recognition/to_recognise/Nicolas Cage.jpg')\n",
    "cage_encoding = face_recognition.face_encodings(cage_image)[0]\n",
    "\n",
    "# loop through downloaded images - create csv of cage face locations for cropping shell script to refer to\n",
    "cage_csv = open('./temp/face_recognition/cage_bounds.csv', 'w')\n",
    "column_titles = 'file_name, face_index, top, right, bottom, left'\n",
    "cage_csv.write(column_titles + '\\n')\n",
    "\n",
    "for file in os.listdir('./temp/downloads'): \n",
    "    if file.endswith('.jpg'):\n",
    "        image_path = os.path.join('./temp/downloads', file)\n",
    "        image = face_recognition.load_image_file(image_path)\n",
    "        face_locations = face_recognition.api.face_locations(image)\n",
    "        if (len(face_locations) > 0): # if faces are detected\n",
    "            # encode each face\n",
    "            image_face_encodings = face_recognition.face_encodings(image, known_face_locations=face_locations)\n",
    "            cage_locations = [] # list of bounding box coordinates for cage faces\n",
    "            for index, encoding in enumerate(image_face_encodings):\n",
    "                results = face_recognition.compare_faces([cage_encoding], encoding, tolerance=0.8)\n",
    "                if (results[0] == True):\n",
    "                    bounds = face_locations[index]\n",
    "                    cage_csv.write('{},{},{},{},{},{}\\n'.format(file, index, bounds[0], bounds[1], bounds[2], bounds[3]))\n",
    "\"\"\""
   ]
  },
  {
   "cell_type": "code",
   "execution_count": 12,
   "metadata": {
    "collapsed": false
   },
   "outputs": [],
   "source": [
    "# Use shell script and imagemagick to iterate through CSV and create folder of cropped images\n",
    "    # Image logic\n",
    "        # Get width of face\n",
    "        # Get ratio of it compared to a desired rescaled size, resize by that factor\n",
    "        # Calculate $LEFT, $TOP crop dimensions required to center the face\n",
    "\n",
    "crop_cage = '\\\n",
    "while IFS=, read -a line;\\\n",
    "\\ndo\\\n",
    "\\n\\tINPUTPATH=./temp/downloads/${line[0]}\\\n",
    "\\n\\tOUTPUTPATH=./temp/cropped_cage/${line[0]}-${line[1]}.jpg\\\n",
    "\\n\\tFACEWIDTH=$((${line[3]}-${line[5]}))\\\n",
    "\\n\\tFACEHEIGHT=$((${line[4]}-${line[2]}))\\\n",
    "\\n\\tRESCALE_FACTOR=$(bc <<< \"scale=2;(220/${FACEWIDTH})*100\")\\\n",
    "\\n\\tSCALED_TOP=$(bc <<< \"scale=2;${line[2]}*${RESCALE_FACTOR}/100\")\\\n",
    "\\n\\tSCALED_LEFT=$(bc <<< \"scale=2;${line[5]}*${RESCALE_FACTOR}/100\")\\\n",
    "\\n\\tconvert ${INPUTPATH} -crop ${FACEWIDTH}x${FACEHEIGHT}+${line[5]}+${line[2]} +repage -resize ${RESCALE_FACTOR}% ${OUTPUTPATH}\\\n",
    "\\ndone < ./temp/face_recognition/cage_bounds.csv\\\n",
    "'\n",
    "\n",
    "write_script('crop_cage', crop_cage)"
   ]
  },
  {
   "cell_type": "code",
   "execution_count": null,
   "metadata": {
    "collapsed": true
   },
   "outputs": [],
   "source": []
  },
  {
   "cell_type": "code",
   "execution_count": null,
   "metadata": {
    "collapsed": true
   },
   "outputs": [],
   "source": []
  }
 ],
 "metadata": {
  "kernelspec": {
   "display_name": "Python 3",
   "language": "python",
   "name": "python3"
  },
  "language_info": {
   "codemirror_mode": {
    "name": "ipython",
    "version": 3
   },
   "file_extension": ".py",
   "mimetype": "text/x-python",
   "name": "python",
   "nbconvert_exporter": "python",
   "pygments_lexer": "ipython3",
   "version": "3.6.0"
  }
 },
 "nbformat": 4,
 "nbformat_minor": 2
}
