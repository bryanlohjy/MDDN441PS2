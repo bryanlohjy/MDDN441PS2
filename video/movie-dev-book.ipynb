{
 "cells": [
  {
   "cell_type": "code",
   "execution_count": 18,
   "metadata": {
    "collapsed": true
   },
   "outputs": [],
   "source": [
    "# This notebook is used to write the scripts and then write them into shell scripts - isn't required for the pipeline"
   ]
  },
  {
   "cell_type": "markdown",
   "metadata": {},
   "source": [
    "# GIF: Nicolas Cage Montage\n",
    "---\n",
    "Combine a sequence of images of Nicolas Cage's face, sorted by smartgrid"
   ]
  },
  {
   "cell_type": "code",
   "execution_count": 9,
   "metadata": {
    "collapsed": true
   },
   "outputs": [],
   "source": [
    "# Goal ====================\n",
    "# Directories:\n",
    "    # temp - temp files\n",
    "    # inputs - source images - \n",
    "    # outputs - processed images in sequence\n",
    "    # movies - final movie gif\n",
    "#  Scripts:\n",
    "    # build-directories.sh - script to create folders\n",
    "    # run-cage.sh - used to run the pipeline as outlined below\n",
    "        # get-cage.sh - scrapes images of nicolas cage and puts them into inputs\n",
    "        # process-cage.sh - goes through input images and filters out non-cage photos + resizes to 440 X 220\n",
    "        # sort-cage.sh - use smartgrid to sort images and put them into outputs\n",
    "        # composite-cage - use smartgrid to sort images and put them into outputs    "
   ]
  },
  {
   "cell_type": "code",
   "execution_count": 28,
   "metadata": {
    "collapsed": false
   },
   "outputs": [
    {
     "name": "stdout",
     "output_type": "stream",
     "text": [
      "mkdir: temp: File exists\r\n",
      "mkdir: inputs: File exists\r\n",
      "mkdir: outputs: File exists\r\n",
      "mkdir: movies: File exists\r\n"
     ]
    }
   ],
   "source": [
    "# Build Directories ===================\n",
    "build_dirs = 'mkdir temp inputs outputs movies'\n",
    "! {build_dirs}"
   ]
  },
  {
   "cell_type": "code",
   "execution_count": 29,
   "metadata": {
    "collapsed": false
   },
   "outputs": [],
   "source": [
    "# Misc. helpers\n",
    "def write_script(title, content, extension) :\n",
    "    f = open('{}.{}'.format(title, extension), 'w')\n",
    "    f.write(content)\n",
    "    f.close()"
   ]
  },
  {
   "cell_type": "code",
   "execution_count": 30,
   "metadata": {
    "collapsed": false
   },
   "outputs": [],
   "source": [
    "# Get Nick Cage photos ================\n",
    "# source: http://niccageaseveryone.blogspot.co.nz\n",
    "get_cage = '\\\n",
    "set -ex\\\n",
    "\\nfor YEAR in 2009 2010 2011 2013\\\n",
    "\\ndo\\\n",
    "\\n\\tfor PAGE in $(seq -f \"%02g\" 1 12)\\\n",
    "\\n\\tdo\\\n",
    "\\n\\t# build the url \\\n",
    "\\n\\tURL=\"http://niccageaseveryone.blogspot.co.nz/\"$YEAR\"/\"$PAGE\\\n",
    "\\n\\t\\t# fetch the images \\\\\\\n",
    "\\n\\t\\twget \\\\\\\n",
    "\\n\\t\\t\\t--adjust-extension \\\\\\\n",
    "\\n\\t\\t\\t--no-directories \\\\\\\n",
    "\\n\\t\\t\\t--convert-links \\\\\\\n",
    "\\n\\t\\t\\t--backup-converted \\\\\\\n",
    "\\n\\t\\t\\t--random-wait\\\\\\\n",
    "\\n\\t\\t\\t--limit-rate=100k \\\\\\\n",
    "\\n\\t\\t\\t--span-hosts \\\\\\\n",
    "\\n\\t\\t\\t--directory-prefix=temp/downloads \\\\\\\n",
    "\\n\\t\\t\\t--page-requisites \\\\\\\n",
    "\\n\\t\\t\\t--timestamping \\\\\\\n",
    "\\n\\t\\t\\t--execute robots=off \\\\\\\n",
    "\\n\\t\\t\\t--accept=*.jpg \\\\\\\n",
    "\\n\\t\\t\\t$URL\\\n",
    "\\n\\tdone\\\n",
    "\\ndone'\n",
    "\n",
    "write_script(\"get-cage\", get_cage, 'sh')"
   ]
  },
  {
   "cell_type": "code",
   "execution_count": 83,
   "metadata": {
    "collapsed": false
   },
   "outputs": [],
   "source": [
    "# Process Nick Cage photos ================\n",
    "# Detect Nick Cage faces - filter out non cage faces + crop\n",
    "import face_recognition\n",
    "import os\n",
    "\n",
    "# create encoding of known cage image to compare faces with\n",
    "cage_image = face_recognition.load_image_file('./temp/face_recognition/to_recognise/Nicolas Cage.jpg')\n",
    "cage_encoding = face_recognition.face_encodings(cage_image)[0]\n",
    "\n",
    "# loop through downloaded images - create csv of cage face locations for cropping shell script to refer to\n",
    "cage_csv = open('./temp/face_recognition/cage_bounds.csv', 'w')\n",
    "column_titles = 'file_name, face_index, top, right, bottom, left'\n",
    "cage_csv.write(column_titles + '\\n')\n",
    "\n",
    "for file in os.listdir('./temp/downloads'): \n",
    "    if file.endswith('.jpg'):\n",
    "        image_path = os.path.join('./temp/downloads', file)\n",
    "        image = face_recognition.load_image_file(image_path)\n",
    "        face_locations = face_recognition.api.face_locations(image)\n",
    "        if (len(face_locations) > 0): # if faces are detected\n",
    "            # encode each face\n",
    "            image_face_encodings = face_recognition.face_encodings(image, known_face_locations=face_locations)\n",
    "            cage_locations = [] # list of bounding box coordinates for cage faces\n",
    "            for index, encoding in enumerate(image_face_encodings):\n",
    "                results = face_recognition.compare_faces([cage_encoding], encoding, tolerance=0.8)\n",
    "                if (results[0] == True):\n",
    "                    bounds = face_locations[index]\n",
    "                    cage_csv.write('{}, {}, {}, {}, {}, {}\\n'.format(file, index, bounds[0], bounds[1], bounds[2], bounds[3]))"
   ]
  },
  {
   "cell_type": "code",
   "execution_count": null,
   "metadata": {
    "collapsed": false
   },
   "outputs": [],
   "source": []
  },
  {
   "cell_type": "code",
   "execution_count": null,
   "metadata": {
    "collapsed": true
   },
   "outputs": [],
   "source": []
  }
 ],
 "metadata": {
  "kernelspec": {
   "display_name": "Python 3",
   "language": "python",
   "name": "python3"
  },
  "language_info": {
   "codemirror_mode": {
    "name": "ipython",
    "version": 3
   },
   "file_extension": ".py",
   "mimetype": "text/x-python",
   "name": "python",
   "nbconvert_exporter": "python",
   "pygments_lexer": "ipython3",
   "version": "3.6.0"
  }
 },
 "nbformat": 4,
 "nbformat_minor": 2
}
