{
 "cells": [
  {
   "cell_type": "code",
   "execution_count": 18,
   "metadata": {
    "collapsed": true
   },
   "outputs": [],
   "source": [
    "# This notebook is used to write the scripts and then write them into shell scripts - isn't required for the pipeline"
   ]
  },
  {
   "cell_type": "markdown",
   "metadata": {},
   "source": [
    "# GIF: Nicholas Cage Montage\n",
    "---\n",
    "Combine a sequence of images of Nicholas Cage's face, sorted by smartgrid"
   ]
  },
  {
   "cell_type": "code",
   "execution_count": null,
   "metadata": {
    "collapsed": true
   },
   "outputs": [],
   "source": [
    "# Goal ====================\n",
    "# Directories:\n",
    "    # temp - temp files\n",
    "    # inputs - source images - \n",
    "    # outputs - processed images in sequence\n",
    "    # movies - final movie gif\n",
    "#  Scripts:\n",
    "    # build-directories.sh - script to create folders\n",
    "    # run-cage.sh - used to run the pipeline as outlined below\n",
    "        # get-cage.sh - scrapes images of nicholas cage and puts them into inputs\n",
    "        # process-cage.sh - goes through input images and filters out non-cage photos + resizes to 440 X 220\n",
    "        # sort-cage.sh - use smartgrid to sort images and put them into outputs\n",
    "        # composite-cage - use smartgrid to sort images and put them into outputs    "
   ]
  },
  {
   "cell_type": "code",
   "execution_count": 28,
   "metadata": {
    "collapsed": false
   },
   "outputs": [],
   "source": [
    "# Build Directories ===================\n",
    "build_dirs = 'mkdir temp inputs outputs movies'\n",
    "! {build_dirs}"
   ]
  },
  {
   "cell_type": "code",
   "execution_count": 63,
   "metadata": {
    "collapsed": false
   },
   "outputs": [],
   "source": [
    "# Misc. helpers\n",
    "def write_script(title, content) :\n",
    "    f = open('{}.sh'.format(title), 'w')\n",
    "    f.write('set -ex\\n{}'.format(content))\n",
    "    f.close()"
   ]
  },
  {
   "cell_type": "code",
   "execution_count": 123,
   "metadata": {
    "collapsed": false
   },
   "outputs": [],
   "source": [
    "# Get Nick Cage photos ================\n",
    "# source: http://niccageaseveryone.blogspot.co.nz\n",
    "\n",
    "get_cage = 'for PAGE in $(seq -f \"%02g\" 1 12)\\\n",
    "\\ndo\\\n",
    "\\n# build the url \\\n",
    "\\nURL=\"http://niccageaseveryone.blogspot.co.nz/2010/\"$PAGE\\\n",
    "\\n\\techo $URL\\\n",
    "\\n\\t# fetch the images \\\\\\\n",
    "\\n\\twget \\\\\\\n",
    "\\n\\t\\t--adjust-extension \\\\\\\n",
    "\\n\\t\\t--no-directories \\\\\\\n",
    "\\n\\t\\t--convert-links \\\\\\\n",
    "\\n\\t\\t--backup-converted \\\\\\\n",
    "\\n\\t\\t--random-wait\\\\\\\n",
    "\\n\\t\\t--limit-rate=100k \\\\\\\n",
    "\\n\\t\\t--span-hosts \\\\\\\n",
    "\\n\\t\\t--directory-prefix=temp/downloads \\\\\\\n",
    "\\n\\t\\t--page-requisites \\\\\\\n",
    "\\n\\t\\t--timestamping \\\\\\\n",
    "\\n\\t\\t--execute robots=off \\\\\\\n",
    "\\n\\t\\t--accept=*.jpg \\\\\\\n",
    "\\n\\t\\t$URL\\\n",
    "\\ndone'\n",
    "\n",
    "write_script(\"get-cage\", get_cage)"
   ]
  },
  {
   "cell_type": "code",
   "execution_count": null,
   "metadata": {
    "collapsed": false
   },
   "outputs": [],
   "source": []
  },
  {
   "cell_type": "code",
   "execution_count": null,
   "metadata": {
    "collapsed": true
   },
   "outputs": [],
   "source": []
  }
 ],
 "metadata": {
  "kernelspec": {
   "display_name": "Python 3",
   "language": "python",
   "name": "python3"
  },
  "language_info": {
   "codemirror_mode": {
    "name": "ipython",
    "version": 3
   },
   "file_extension": ".py",
   "mimetype": "text/x-python",
   "name": "python",
   "nbconvert_exporter": "python",
   "pygments_lexer": "ipython3",
   "version": "3.6.0"
  }
 },
 "nbformat": 4,
 "nbformat_minor": 2
}
